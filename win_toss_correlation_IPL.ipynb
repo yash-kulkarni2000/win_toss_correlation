{
 "cells": [
  {
   "cell_type": "code",
   "execution_count": 1,
   "metadata": {},
   "outputs": [],
   "source": [
    "import pandas as pd\n",
    "import matplotlib.pyplot as plt"
   ]
  },
  {
   "cell_type": "markdown",
   "metadata": {},
   "source": [
    "importing the dataset"
   ]
  },
  {
   "cell_type": "code",
   "execution_count": 2,
   "metadata": {},
   "outputs": [
    {
     "data": {
      "text/html": [
       "<div>\n",
       "<style scoped>\n",
       "    .dataframe tbody tr th:only-of-type {\n",
       "        vertical-align: middle;\n",
       "    }\n",
       "\n",
       "    .dataframe tbody tr th {\n",
       "        vertical-align: top;\n",
       "    }\n",
       "\n",
       "    .dataframe thead th {\n",
       "        text-align: right;\n",
       "    }\n",
       "</style>\n",
       "<table border=\"1\" class=\"dataframe\">\n",
       "  <thead>\n",
       "    <tr style=\"text-align: right;\">\n",
       "      <th></th>\n",
       "      <th>id</th>\n",
       "      <th>city</th>\n",
       "      <th>date</th>\n",
       "      <th>player_of_match</th>\n",
       "      <th>venue</th>\n",
       "      <th>neutral_venue</th>\n",
       "      <th>team1</th>\n",
       "      <th>team2</th>\n",
       "      <th>toss_winner</th>\n",
       "      <th>toss_decision</th>\n",
       "      <th>winner</th>\n",
       "      <th>result</th>\n",
       "      <th>result_margin</th>\n",
       "      <th>eliminator</th>\n",
       "      <th>method</th>\n",
       "      <th>umpire1</th>\n",
       "      <th>umpire2</th>\n",
       "    </tr>\n",
       "  </thead>\n",
       "  <tbody>\n",
       "    <tr>\n",
       "      <th>0</th>\n",
       "      <td>335982</td>\n",
       "      <td>Bangalore</td>\n",
       "      <td>2008-04-18</td>\n",
       "      <td>BB McCullum</td>\n",
       "      <td>M.Chinnaswamy Stadium, Bangalore</td>\n",
       "      <td>0</td>\n",
       "      <td>Royal Challengers Bangalore</td>\n",
       "      <td>Kolkata Knight Riders</td>\n",
       "      <td>Royal Challengers Bangalore</td>\n",
       "      <td>field</td>\n",
       "      <td>Kolkata Knight Riders</td>\n",
       "      <td>runs</td>\n",
       "      <td>140.0</td>\n",
       "      <td>N</td>\n",
       "      <td>NaN</td>\n",
       "      <td>Asad Rauf</td>\n",
       "      <td>RE Koertzen</td>\n",
       "    </tr>\n",
       "    <tr>\n",
       "      <th>1</th>\n",
       "      <td>335983</td>\n",
       "      <td>Chandigarh</td>\n",
       "      <td>2008-04-19</td>\n",
       "      <td>MEK Hussey</td>\n",
       "      <td>Punjab Cricket Association IS Bindra Stadium, ...</td>\n",
       "      <td>0</td>\n",
       "      <td>Kings XI Punjab</td>\n",
       "      <td>Chennai Super Kings</td>\n",
       "      <td>Chennai Super Kings</td>\n",
       "      <td>bat</td>\n",
       "      <td>Chennai Super Kings</td>\n",
       "      <td>runs</td>\n",
       "      <td>33.0</td>\n",
       "      <td>N</td>\n",
       "      <td>NaN</td>\n",
       "      <td>MR Benson</td>\n",
       "      <td>SL Shastri</td>\n",
       "    </tr>\n",
       "    <tr>\n",
       "      <th>2</th>\n",
       "      <td>335984</td>\n",
       "      <td>Delhi</td>\n",
       "      <td>2008-04-19</td>\n",
       "      <td>MF Maharoof</td>\n",
       "      <td>Feroz Shah Kotla, Delhi</td>\n",
       "      <td>0</td>\n",
       "      <td>Delhi Daredevils</td>\n",
       "      <td>Rajasthan Royals</td>\n",
       "      <td>Rajasthan Royals</td>\n",
       "      <td>bat</td>\n",
       "      <td>Delhi Daredevils</td>\n",
       "      <td>wickets</td>\n",
       "      <td>9.0</td>\n",
       "      <td>N</td>\n",
       "      <td>NaN</td>\n",
       "      <td>Aleem Dar</td>\n",
       "      <td>GA Pratapkumar</td>\n",
       "    </tr>\n",
       "    <tr>\n",
       "      <th>3</th>\n",
       "      <td>335985</td>\n",
       "      <td>Mumbai</td>\n",
       "      <td>2008-04-20</td>\n",
       "      <td>MV Boucher</td>\n",
       "      <td>Wankhede Stadium, Mumbai</td>\n",
       "      <td>0</td>\n",
       "      <td>Mumbai Indians</td>\n",
       "      <td>Royal Challengers Bangalore</td>\n",
       "      <td>Mumbai Indians</td>\n",
       "      <td>bat</td>\n",
       "      <td>Royal Challengers Bangalore</td>\n",
       "      <td>wickets</td>\n",
       "      <td>5.0</td>\n",
       "      <td>N</td>\n",
       "      <td>NaN</td>\n",
       "      <td>SJ Davis</td>\n",
       "      <td>DJ Harper</td>\n",
       "    </tr>\n",
       "    <tr>\n",
       "      <th>4</th>\n",
       "      <td>335986</td>\n",
       "      <td>Kolkata</td>\n",
       "      <td>2008-04-20</td>\n",
       "      <td>DJ Hussey</td>\n",
       "      <td>Eden Gardens, Kolkata</td>\n",
       "      <td>0</td>\n",
       "      <td>Kolkata Knight Riders</td>\n",
       "      <td>Deccan Chargers</td>\n",
       "      <td>Deccan Chargers</td>\n",
       "      <td>bat</td>\n",
       "      <td>Kolkata Knight Riders</td>\n",
       "      <td>wickets</td>\n",
       "      <td>5.0</td>\n",
       "      <td>N</td>\n",
       "      <td>NaN</td>\n",
       "      <td>BF Bowden</td>\n",
       "      <td>K Hariharan</td>\n",
       "    </tr>\n",
       "  </tbody>\n",
       "</table>\n",
       "</div>"
      ],
      "text/plain": [
       "       id        city       date player_of_match  \\\n",
       "0  335982   Bangalore 2008-04-18     BB McCullum   \n",
       "1  335983  Chandigarh 2008-04-19      MEK Hussey   \n",
       "2  335984       Delhi 2008-04-19     MF Maharoof   \n",
       "3  335985      Mumbai 2008-04-20      MV Boucher   \n",
       "4  335986     Kolkata 2008-04-20       DJ Hussey   \n",
       "\n",
       "                                               venue  neutral_venue  \\\n",
       "0                   M.Chinnaswamy Stadium, Bangalore              0   \n",
       "1  Punjab Cricket Association IS Bindra Stadium, ...              0   \n",
       "2                            Feroz Shah Kotla, Delhi              0   \n",
       "3                           Wankhede Stadium, Mumbai              0   \n",
       "4                              Eden Gardens, Kolkata              0   \n",
       "\n",
       "                         team1                        team2  \\\n",
       "0  Royal Challengers Bangalore        Kolkata Knight Riders   \n",
       "1              Kings XI Punjab          Chennai Super Kings   \n",
       "2             Delhi Daredevils             Rajasthan Royals   \n",
       "3               Mumbai Indians  Royal Challengers Bangalore   \n",
       "4        Kolkata Knight Riders              Deccan Chargers   \n",
       "\n",
       "                   toss_winner toss_decision                       winner  \\\n",
       "0  Royal Challengers Bangalore         field        Kolkata Knight Riders   \n",
       "1          Chennai Super Kings           bat          Chennai Super Kings   \n",
       "2             Rajasthan Royals           bat             Delhi Daredevils   \n",
       "3               Mumbai Indians           bat  Royal Challengers Bangalore   \n",
       "4              Deccan Chargers           bat        Kolkata Knight Riders   \n",
       "\n",
       "    result  result_margin eliminator method    umpire1         umpire2  \n",
       "0     runs          140.0          N    NaN  Asad Rauf     RE Koertzen  \n",
       "1     runs           33.0          N    NaN  MR Benson      SL Shastri  \n",
       "2  wickets            9.0          N    NaN  Aleem Dar  GA Pratapkumar  \n",
       "3  wickets            5.0          N    NaN   SJ Davis       DJ Harper  \n",
       "4  wickets            5.0          N    NaN  BF Bowden     K Hariharan  "
      ]
     },
     "execution_count": 2,
     "metadata": {},
     "output_type": "execute_result"
    }
   ],
   "source": [
    "ipl = pd.read_csv(\"Updated_IPL_Matches_2008-2020.csv\", parse_dates=[\"date\"])\n",
    "ipl = ipl.drop(\"Unnamed: 0\",axis=1)\n",
    "ipl.head()"
   ]
  },
  {
   "cell_type": "markdown",
   "metadata": {},
   "source": [
    "using the info method to get the insights."
   ]
  },
  {
   "cell_type": "code",
   "execution_count": 3,
   "metadata": {},
   "outputs": [
    {
     "name": "stdout",
     "output_type": "stream",
     "text": [
      "<class 'pandas.core.frame.DataFrame'>\n",
      "RangeIndex: 816 entries, 0 to 815\n",
      "Data columns (total 17 columns):\n",
      " #   Column           Non-Null Count  Dtype         \n",
      "---  ------           --------------  -----         \n",
      " 0   id               816 non-null    int64         \n",
      " 1   city             803 non-null    object        \n",
      " 2   date             816 non-null    datetime64[ns]\n",
      " 3   player_of_match  812 non-null    object        \n",
      " 4   venue            816 non-null    object        \n",
      " 5   neutral_venue    816 non-null    int64         \n",
      " 6   team1            816 non-null    object        \n",
      " 7   team2            816 non-null    object        \n",
      " 8   toss_winner      816 non-null    object        \n",
      " 9   toss_decision    816 non-null    object        \n",
      " 10  winner           812 non-null    object        \n",
      " 11  result           812 non-null    object        \n",
      " 12  result_margin    799 non-null    float64       \n",
      " 13  eliminator       812 non-null    object        \n",
      " 14  method           19 non-null     object        \n",
      " 15  umpire1          816 non-null    object        \n",
      " 16  umpire2          816 non-null    object        \n",
      "dtypes: datetime64[ns](1), float64(1), int64(2), object(13)\n",
      "memory usage: 108.5+ KB\n"
     ]
    }
   ],
   "source": [
    "ipl.info()"
   ]
  },
  {
   "cell_type": "markdown",
   "metadata": {},
   "source": [
    "In this case, the most important columns that we will have to analyse are team1, team2, toss_winner, toss_decision and winner </br>\n",
    "First let us look at the stats of all the teams combined"
   ]
  },
  {
   "cell_type": "markdown",
   "metadata": {},
   "source": [
    "### 1. The total number of incidents where the toss winning team has also won the match"
   ]
  },
  {
   "cell_type": "code",
   "execution_count": 4,
   "metadata": {},
   "outputs": [
    {
     "data": {
      "text/plain": [
       "True     418\n",
       "False    398\n",
       "dtype: int64"
      ]
     },
     "execution_count": 4,
     "metadata": {},
     "output_type": "execute_result"
    }
   ],
   "source": [
    "(ipl[\"toss_winner\"] == ipl[\"winner\"]).value_counts()"
   ]
  },
  {
   "cell_type": "markdown",
   "metadata": {},
   "source": [
    "So out of a possible 816 toss winners only 418 have actually gone on to win the match"
   ]
  },
  {
   "cell_type": "code",
   "execution_count": 5,
   "metadata": {},
   "outputs": [
    {
     "data": {
      "text/plain": [
       "True     51.22549\n",
       "False    48.77451\n",
       "dtype: float64"
      ]
     },
     "execution_count": 5,
     "metadata": {},
     "output_type": "execute_result"
    }
   ],
   "source": [
    "(ipl[\"toss_winner\"] == ipl[\"winner\"]).value_counts(normalize=True) * 100"
   ]
  },
  {
   "cell_type": "markdown",
   "metadata": {},
   "source": [
    "This means that even if a team wins the toss, only there's a 51.22% chance that it will win the match"
   ]
  },
  {
   "cell_type": "markdown",
   "metadata": {},
   "source": [
    "### 2. Now let's look at these stats team wise"
   ]
  },
  {
   "cell_type": "code",
   "execution_count": 6,
   "metadata": {},
   "outputs": [
    {
     "data": {
      "text/html": [
       "<div>\n",
       "<style scoped>\n",
       "    .dataframe tbody tr th:only-of-type {\n",
       "        vertical-align: middle;\n",
       "    }\n",
       "\n",
       "    .dataframe tbody tr th {\n",
       "        vertical-align: top;\n",
       "    }\n",
       "\n",
       "    .dataframe thead th {\n",
       "        text-align: right;\n",
       "    }\n",
       "</style>\n",
       "<table border=\"1\" class=\"dataframe\">\n",
       "  <thead>\n",
       "    <tr style=\"text-align: right;\">\n",
       "      <th></th>\n",
       "      <th>toss_winner</th>\n",
       "      <th>winner</th>\n",
       "    </tr>\n",
       "  </thead>\n",
       "  <tbody>\n",
       "    <tr>\n",
       "      <th>1</th>\n",
       "      <td>Chennai Super Kings</td>\n",
       "      <td>Chennai Super Kings</td>\n",
       "    </tr>\n",
       "    <tr>\n",
       "      <th>8</th>\n",
       "      <td>Rajasthan Royals</td>\n",
       "      <td>Rajasthan Royals</td>\n",
       "    </tr>\n",
       "    <tr>\n",
       "      <th>10</th>\n",
       "      <td>Rajasthan Royals</td>\n",
       "      <td>Rajasthan Royals</td>\n",
       "    </tr>\n",
       "    <tr>\n",
       "      <th>12</th>\n",
       "      <td>Deccan Chargers</td>\n",
       "      <td>Deccan Chargers</td>\n",
       "    </tr>\n",
       "    <tr>\n",
       "      <th>14</th>\n",
       "      <td>Chennai Super Kings</td>\n",
       "      <td>Chennai Super Kings</td>\n",
       "    </tr>\n",
       "    <tr>\n",
       "      <th>...</th>\n",
       "      <td>...</td>\n",
       "      <td>...</td>\n",
       "    </tr>\n",
       "    <tr>\n",
       "      <th>804</th>\n",
       "      <td>Royal Challengers Bangalore</td>\n",
       "      <td>Royal Challengers Bangalore</td>\n",
       "    </tr>\n",
       "    <tr>\n",
       "      <th>806</th>\n",
       "      <td>Sunrisers Hyderabad</td>\n",
       "      <td>Sunrisers Hyderabad</td>\n",
       "    </tr>\n",
       "    <tr>\n",
       "      <th>807</th>\n",
       "      <td>Delhi Capitals</td>\n",
       "      <td>Delhi Capitals</td>\n",
       "    </tr>\n",
       "    <tr>\n",
       "      <th>813</th>\n",
       "      <td>Sunrisers Hyderabad</td>\n",
       "      <td>Sunrisers Hyderabad</td>\n",
       "    </tr>\n",
       "    <tr>\n",
       "      <th>814</th>\n",
       "      <td>Delhi Capitals</td>\n",
       "      <td>Delhi Capitals</td>\n",
       "    </tr>\n",
       "  </tbody>\n",
       "</table>\n",
       "<p>418 rows × 2 columns</p>\n",
       "</div>"
      ],
      "text/plain": [
       "                     toss_winner                       winner\n",
       "1            Chennai Super Kings          Chennai Super Kings\n",
       "8               Rajasthan Royals             Rajasthan Royals\n",
       "10              Rajasthan Royals             Rajasthan Royals\n",
       "12               Deccan Chargers              Deccan Chargers\n",
       "14           Chennai Super Kings          Chennai Super Kings\n",
       "..                           ...                          ...\n",
       "804  Royal Challengers Bangalore  Royal Challengers Bangalore\n",
       "806          Sunrisers Hyderabad          Sunrisers Hyderabad\n",
       "807               Delhi Capitals               Delhi Capitals\n",
       "813          Sunrisers Hyderabad          Sunrisers Hyderabad\n",
       "814               Delhi Capitals               Delhi Capitals\n",
       "\n",
       "[418 rows x 2 columns]"
      ]
     },
     "execution_count": 6,
     "metadata": {},
     "output_type": "execute_result"
    }
   ],
   "source": [
    "ipl_toss_actual_winner = ipl[(ipl[\"toss_winner\"] == ipl[\"winner\"])]\n",
    "ipl_toss_actual_winner[[\"toss_winner\", \"winner\"]]"
   ]
  },
  {
   "cell_type": "code",
   "execution_count": 7,
   "metadata": {},
   "outputs": [
    {
     "data": {
      "text/plain": [
       "Mumbai Indians                 61\n",
       "Chennai Super Kings            61\n",
       "Kolkata Knight Riders          55\n",
       "Rajasthan Royals               44\n",
       "Royal Challengers Bangalore    43\n",
       "Kings XI Punjab                36\n",
       "Delhi Daredevils               35\n",
       "Sunrisers Hyderabad            29\n",
       "Deccan Chargers                19\n",
       "Gujarat Lions                  10\n",
       "Delhi Capitals                 10\n",
       "Rising Pune Supergiant          8\n",
       "Kochi Tuskers Kerala            4\n",
       "Pune Warriors                   3\n",
       "Name: winner, dtype: int64"
      ]
     },
     "execution_count": 7,
     "metadata": {},
     "output_type": "execute_result"
    }
   ],
   "source": [
    "ipl_toss_actual_winner[\"winner\"].value_counts()"
   ]
  },
  {
   "cell_type": "markdown",
   "metadata": {},
   "source": [
    "As we can see Chennai Super Kings and Mumbai Indians are the two teams, </br> which have gone on to win the match after winning the toss most times"
   ]
  },
  {
   "cell_type": "markdown",
   "metadata": {},
   "source": [
    "### 3. Now let's look at each team individually"
   ]
  },
  {
   "cell_type": "markdown",
   "metadata": {},
   "source": [
    "#### 1. Chennai Super Kings"
   ]
  },
  {
   "cell_type": "code",
   "execution_count": 8,
   "metadata": {},
   "outputs": [],
   "source": [
    "#Selecting all the rows where either team1 is CSK or team2 is CSK\n",
    "team1_csk = ipl[\"team1\"] == \"Chennai Super Kings\"\n",
    "team2_csk = ipl[\"team2\"] == \"Chennai Super Kings\"\n",
    "ipl_csk = ipl[team1_csk | team2_csk]"
   ]
  },
  {
   "cell_type": "code",
   "execution_count": 9,
   "metadata": {},
   "outputs": [
    {
     "data": {
      "text/plain": [
       "178"
      ]
     },
     "execution_count": 9,
     "metadata": {},
     "output_type": "execute_result"
    }
   ],
   "source": [
    "len(ipl_csk)"
   ]
  },
  {
   "cell_type": "markdown",
   "metadata": {},
   "source": [
    "This means that Chennai have played a total number of 178 matches between 2008 and 2020"
   ]
  },
  {
   "cell_type": "code",
   "execution_count": 10,
   "metadata": {},
   "outputs": [
    {
     "data": {
      "text/plain": [
       "True     106\n",
       "False     72\n",
       "Name: winner, dtype: int64"
      ]
     },
     "execution_count": 10,
     "metadata": {},
     "output_type": "execute_result"
    }
   ],
   "source": [
    "(ipl_csk[\"winner\"] == \"Chennai Super Kings\").value_counts()"
   ]
  },
  {
   "cell_type": "markdown",
   "metadata": {},
   "source": [
    "This means that Chennai have won 106 matches and have lost 72 matches overall"
   ]
  },
  {
   "cell_type": "code",
   "execution_count": 11,
   "metadata": {},
   "outputs": [
    {
     "data": {
      "text/plain": [
       "True     97\n",
       "False    81\n",
       "Name: toss_winner, dtype: int64"
      ]
     },
     "execution_count": 11,
     "metadata": {},
     "output_type": "execute_result"
    }
   ],
   "source": [
    "(ipl_csk[\"toss_winner\"] == \"Chennai Super Kings\").value_counts()"
   ]
  },
  {
   "cell_type": "markdown",
   "metadata": {},
   "source": [
    "This means that Chennai have won the toss 97 times overall"
   ]
  },
  {
   "cell_type": "code",
   "execution_count": 12,
   "metadata": {},
   "outputs": [
    {
     "data": {
      "text/plain": [
       "61"
      ]
     },
     "execution_count": 12,
     "metadata": {},
     "output_type": "execute_result"
    }
   ],
   "source": [
    "win_csk = ipl_csk[\"winner\"] == \"Chennai Super Kings\"\n",
    "toss_csk  = ipl_csk[\"toss_winner\"] == \"Chennai Super Kings\"\n",
    "both_csk = ipl_csk[win_csk & toss_csk]\n",
    "len(both_csk)"
   ]
  },
  {
   "cell_type": "markdown",
   "metadata": {},
   "source": [
    "This means that Chennai have won the game 61 times after winning the toss as well"
   ]
  },
  {
   "cell_type": "code",
   "execution_count": 13,
   "metadata": {},
   "outputs": [
    {
     "data": {
      "text/plain": [
       "36"
      ]
     },
     "execution_count": 13,
     "metadata": {},
     "output_type": "execute_result"
    }
   ],
   "source": [
    "not_win_csk = ipl_csk[\"winner\"] != \"Chennai Super Kings\"\n",
    "toss_csk  = ipl_csk[\"toss_winner\"] == \"Chennai Super Kings\"\n",
    "len(ipl_csk[not_win_csk & toss_csk])"
   ]
  },
  {
   "cell_type": "markdown",
   "metadata": {},
   "source": [
    "This means that Chennai lost the match 36 times even after winning the toss"
   ]
  },
  {
   "cell_type": "code",
   "execution_count": 85,
   "metadata": {},
   "outputs": [
    {
     "data": {
      "text/plain": [
       "62.88659793814433"
      ]
     },
     "execution_count": 85,
     "metadata": {},
     "output_type": "execute_result"
    }
   ],
   "source": [
    "win_rate = len(both_csk)/(len(both_csk)+len(ipl_csk[not_win_csk & toss_csk])) * 100\n",
    "win_rate"
   ]
  },
  {
   "cell_type": "markdown",
   "metadata": {},
   "source": [
    "This means csk won 62.8 percent of the matches after winning the toss"
   ]
  },
  {
   "cell_type": "markdown",
   "metadata": {},
   "source": [
    "#### 2. Mumbai Indians"
   ]
  },
  {
   "cell_type": "code",
   "execution_count": 14,
   "metadata": {},
   "outputs": [],
   "source": [
    "#Selecting all the rows where either team1 is MI or team2 is MI\n",
    "team1_mi = ipl[\"team1\"] == \"Mumbai Indians\"\n",
    "team2_mi = ipl[\"team2\"] == \"Mumbai Indians\"\n",
    "ipl_mi = ipl[team1_mi | team2_mi]"
   ]
  },
  {
   "cell_type": "code",
   "execution_count": 15,
   "metadata": {},
   "outputs": [
    {
     "data": {
      "text/plain": [
       "203"
      ]
     },
     "execution_count": 15,
     "metadata": {},
     "output_type": "execute_result"
    }
   ],
   "source": [
    "len(ipl_mi)"
   ]
  },
  {
   "cell_type": "markdown",
   "metadata": {},
   "source": [
    "This means that Mumbai have played a total number of 203 matches between 2008 and 2020"
   ]
  },
  {
   "cell_type": "code",
   "execution_count": 16,
   "metadata": {},
   "outputs": [
    {
     "data": {
      "text/plain": [
       "True     120\n",
       "False     83\n",
       "Name: winner, dtype: int64"
      ]
     },
     "execution_count": 16,
     "metadata": {},
     "output_type": "execute_result"
    }
   ],
   "source": [
    "(ipl_mi[\"winner\"] == \"Mumbai Indians\").value_counts()"
   ]
  },
  {
   "cell_type": "markdown",
   "metadata": {},
   "source": [
    "This means that Mumbai have won 120 matches and have lost 83 matches overall"
   ]
  },
  {
   "cell_type": "code",
   "execution_count": 17,
   "metadata": {},
   "outputs": [
    {
     "data": {
      "text/plain": [
       "True     106\n",
       "False     97\n",
       "Name: toss_winner, dtype: int64"
      ]
     },
     "execution_count": 17,
     "metadata": {},
     "output_type": "execute_result"
    }
   ],
   "source": [
    "(ipl_mi[\"toss_winner\"] == \"Mumbai Indians\").value_counts()"
   ]
  },
  {
   "cell_type": "markdown",
   "metadata": {},
   "source": [
    "This means that Mumbai have won the toss 106 times overall"
   ]
  },
  {
   "cell_type": "code",
   "execution_count": 18,
   "metadata": {},
   "outputs": [
    {
     "data": {
      "text/plain": [
       "61"
      ]
     },
     "execution_count": 18,
     "metadata": {},
     "output_type": "execute_result"
    }
   ],
   "source": [
    "win_mi = ipl_mi[\"winner\"] == \"Mumbai Indians\"\n",
    "toss_mi  = ipl_mi[\"toss_winner\"] == \"Mumbai Indians\"\n",
    "both_mi = ipl_mi[win_mi & toss_mi]\n",
    "len(both_mi)"
   ]
  },
  {
   "cell_type": "markdown",
   "metadata": {},
   "source": [
    "This means that Mumbai have won the game 61 times after winning the toss as well"
   ]
  },
  {
   "cell_type": "code",
   "execution_count": 19,
   "metadata": {},
   "outputs": [
    {
     "data": {
      "text/plain": [
       "45"
      ]
     },
     "execution_count": 19,
     "metadata": {},
     "output_type": "execute_result"
    }
   ],
   "source": [
    "not_win_mi = ipl_mi[\"winner\"] != \"Mumbai Indians\"\n",
    "toss_mi  = ipl_mi[\"toss_winner\"] == \"Mumbai Indians\"\n",
    "len(ipl_mi[not_win_mi & toss_mi])"
   ]
  },
  {
   "cell_type": "markdown",
   "metadata": {},
   "source": [
    "This means that Mumbai lost the match 45 times even after winning the toss"
   ]
  },
  {
   "cell_type": "code",
   "execution_count": 86,
   "metadata": {},
   "outputs": [
    {
     "data": {
      "text/plain": [
       "57.54716981132076"
      ]
     },
     "execution_count": 86,
     "metadata": {},
     "output_type": "execute_result"
    }
   ],
   "source": [
    "win_rate = len(both_mi)/(len(both_mi)+len(ipl_mi[not_win_mi & toss_mi])) * 100\n",
    "win_rate"
   ]
  },
  {
   "cell_type": "markdown",
   "metadata": {},
   "source": [
    "#### 3. Kolkata Knight Riders"
   ]
  },
  {
   "cell_type": "code",
   "execution_count": 20,
   "metadata": {},
   "outputs": [],
   "source": [
    "#Selecting all the rows where either team1 is KKR or team2 is KKR\n",
    "team1_kkr = ipl[\"team1\"] == \"Kolkata Knight Riders\"\n",
    "team2_kkr = ipl[\"team2\"] == \"Kolkata Knight Riders\"\n",
    "ipl_kkr = ipl[team1_kkr | team2_kkr]"
   ]
  },
  {
   "cell_type": "code",
   "execution_count": 21,
   "metadata": {},
   "outputs": [
    {
     "data": {
      "text/plain": [
       "192"
      ]
     },
     "execution_count": 21,
     "metadata": {},
     "output_type": "execute_result"
    }
   ],
   "source": [
    "len(ipl_kkr)"
   ]
  },
  {
   "cell_type": "markdown",
   "metadata": {},
   "source": [
    "This means that Kolkata have played a total number of 192 matches between 2008 and 2020"
   ]
  },
  {
   "cell_type": "code",
   "execution_count": 22,
   "metadata": {},
   "outputs": [
    {
     "data": {
      "text/plain": [
       "True     99\n",
       "False    93\n",
       "Name: winner, dtype: int64"
      ]
     },
     "execution_count": 22,
     "metadata": {},
     "output_type": "execute_result"
    }
   ],
   "source": [
    "(ipl_kkr[\"winner\"] == \"Kolkata Knight Riders\").value_counts()"
   ]
  },
  {
   "cell_type": "markdown",
   "metadata": {},
   "source": [
    "This means that Kolkata have won 99 matches and have lost 93 matches overall"
   ]
  },
  {
   "cell_type": "code",
   "execution_count": 23,
   "metadata": {},
   "outputs": [
    {
     "data": {
      "text/plain": [
       "True     98\n",
       "False    94\n",
       "Name: toss_winner, dtype: int64"
      ]
     },
     "execution_count": 23,
     "metadata": {},
     "output_type": "execute_result"
    }
   ],
   "source": [
    "(ipl_kkr[\"toss_winner\"] == \"Kolkata Knight Riders\").value_counts()"
   ]
  },
  {
   "cell_type": "markdown",
   "metadata": {},
   "source": [
    "This means that Kolkata have won the toss 98 times overall"
   ]
  },
  {
   "cell_type": "code",
   "execution_count": 24,
   "metadata": {},
   "outputs": [
    {
     "data": {
      "text/plain": [
       "55"
      ]
     },
     "execution_count": 24,
     "metadata": {},
     "output_type": "execute_result"
    }
   ],
   "source": [
    "win_kkr = ipl_kkr[\"winner\"] == \"Kolkata Knight Riders\"\n",
    "toss_kkr  = ipl_kkr[\"toss_winner\"] == \"Kolkata Knight Riders\"\n",
    "both_kkr = ipl_kkr[win_kkr & toss_kkr]\n",
    "len(both_kkr)"
   ]
  },
  {
   "cell_type": "markdown",
   "metadata": {},
   "source": [
    "This means that Kolkata have won the game 55 times after winning the toss as well"
   ]
  },
  {
   "cell_type": "code",
   "execution_count": 25,
   "metadata": {},
   "outputs": [
    {
     "data": {
      "text/plain": [
       "43"
      ]
     },
     "execution_count": 25,
     "metadata": {},
     "output_type": "execute_result"
    }
   ],
   "source": [
    "not_win_kkr = ipl_kkr[\"winner\"] != \"Kolkata Knight Riders\"\n",
    "toss_kkr  = ipl_kkr[\"toss_winner\"] == \"Kolkata Knight Riders\"\n",
    "len(ipl_kkr[not_win_kkr & toss_kkr])"
   ]
  },
  {
   "cell_type": "markdown",
   "metadata": {},
   "source": [
    "This means that Kolkata lost the match 43 times even after winning the toss"
   ]
  },
  {
   "cell_type": "code",
   "execution_count": 87,
   "metadata": {},
   "outputs": [
    {
     "data": {
      "text/plain": [
       "56.12244897959183"
      ]
     },
     "execution_count": 87,
     "metadata": {},
     "output_type": "execute_result"
    }
   ],
   "source": [
    "win_rate = len(both_kkr)/(len(both_kkr)+len(ipl_kkr[not_win_kkr & toss_kkr])) * 100\n",
    "win_rate"
   ]
  },
  {
   "cell_type": "markdown",
   "metadata": {},
   "source": [
    "#### 4. Rajasthan Royals"
   ]
  },
  {
   "cell_type": "code",
   "execution_count": 26,
   "metadata": {},
   "outputs": [],
   "source": [
    "#Selecting all the rows where either team1 is RR or team2 is RR\n",
    "team1_rr = ipl[\"team1\"] == \"Rajasthan Royals\"\n",
    "team2_rr = ipl[\"team2\"] == \"Rajasthan Royals\"\n",
    "ipl_rr = ipl[team1_rr | team2_rr]"
   ]
  },
  {
   "cell_type": "code",
   "execution_count": 27,
   "metadata": {},
   "outputs": [
    {
     "data": {
      "text/plain": [
       "161"
      ]
     },
     "execution_count": 27,
     "metadata": {},
     "output_type": "execute_result"
    }
   ],
   "source": [
    "len(ipl_rr)"
   ]
  },
  {
   "cell_type": "markdown",
   "metadata": {},
   "source": [
    "This means that Rajasthan have played a total number of 161 matches between 2008 and 2020"
   ]
  },
  {
   "cell_type": "code",
   "execution_count": 28,
   "metadata": {},
   "outputs": [
    {
     "data": {
      "text/plain": [
       "True     81\n",
       "False    80\n",
       "Name: winner, dtype: int64"
      ]
     },
     "execution_count": 28,
     "metadata": {},
     "output_type": "execute_result"
    }
   ],
   "source": [
    "(ipl_rr[\"winner\"] == \"Rajasthan Royals\").value_counts()"
   ]
  },
  {
   "cell_type": "markdown",
   "metadata": {},
   "source": [
    "This means that Rajasthan have won 81 matches and have lost 80 matches overall"
   ]
  },
  {
   "cell_type": "code",
   "execution_count": 29,
   "metadata": {},
   "outputs": [
    {
     "data": {
      "text/plain": [
       "True     87\n",
       "False    74\n",
       "Name: toss_winner, dtype: int64"
      ]
     },
     "execution_count": 29,
     "metadata": {},
     "output_type": "execute_result"
    }
   ],
   "source": [
    "(ipl_rr[\"toss_winner\"] == \"Rajasthan Royals\").value_counts()"
   ]
  },
  {
   "cell_type": "markdown",
   "metadata": {},
   "source": [
    "This means that Rajasthan have won the toss 87 times overall </br>\n",
    "This also means that Rajasthan have won the toss more times than winning a match (81)"
   ]
  },
  {
   "cell_type": "code",
   "execution_count": 30,
   "metadata": {},
   "outputs": [
    {
     "data": {
      "text/plain": [
       "44"
      ]
     },
     "execution_count": 30,
     "metadata": {},
     "output_type": "execute_result"
    }
   ],
   "source": [
    "win_rr = ipl_rr[\"winner\"] == \"Rajasthan Royals\"\n",
    "toss_rr  = ipl_rr[\"toss_winner\"] == \"Rajasthan Royals\"\n",
    "both_rr = ipl_rr[win_rr & toss_rr]\n",
    "len(both_rr)"
   ]
  },
  {
   "cell_type": "markdown",
   "metadata": {},
   "source": [
    "This means that Rajasthan have won the game 44 times after winning the toss as well"
   ]
  },
  {
   "cell_type": "code",
   "execution_count": 31,
   "metadata": {},
   "outputs": [
    {
     "data": {
      "text/plain": [
       "43"
      ]
     },
     "execution_count": 31,
     "metadata": {},
     "output_type": "execute_result"
    }
   ],
   "source": [
    "not_win_rr = ipl_rr[\"winner\"] != \"Rajasthan Royals\"\n",
    "toss_rr  = ipl_rr[\"toss_winner\"] == \"Rajasthan Royals\"\n",
    "len(ipl_rr[not_win_rr & toss_rr])"
   ]
  },
  {
   "cell_type": "markdown",
   "metadata": {},
   "source": [
    "This means that Rajasthan lost the match 43 times even after winning the toss"
   ]
  },
  {
   "cell_type": "code",
   "execution_count": 88,
   "metadata": {},
   "outputs": [
    {
     "data": {
      "text/plain": [
       "50.57471264367817"
      ]
     },
     "execution_count": 88,
     "metadata": {},
     "output_type": "execute_result"
    }
   ],
   "source": [
    "win_rate = len(both_rr)/(len(both_rr)+len(ipl_rr[not_win_rr & toss_rr])) * 100\n",
    "win_rate"
   ]
  },
  {
   "cell_type": "markdown",
   "metadata": {},
   "source": [
    "#### 5. Royal Challengers Bangalore"
   ]
  },
  {
   "cell_type": "code",
   "execution_count": 32,
   "metadata": {},
   "outputs": [],
   "source": [
    "#Selecting all the rows where either team1 is RCB or team2 is RCB\n",
    "team1_rcb = ipl[\"team1\"] == \"Royal Challengers Bangalore\"\n",
    "team2_rcb = ipl[\"team2\"] == \"Royal Challengers Bangalore\"\n",
    "ipl_rcb = ipl[team1_rcb | team2_rcb]"
   ]
  },
  {
   "cell_type": "code",
   "execution_count": 33,
   "metadata": {},
   "outputs": [
    {
     "data": {
      "text/plain": [
       "195"
      ]
     },
     "execution_count": 33,
     "metadata": {},
     "output_type": "execute_result"
    }
   ],
   "source": [
    "len(ipl_rcb)"
   ]
  },
  {
   "cell_type": "markdown",
   "metadata": {},
   "source": [
    "This means that Bangalore have played a total number of 195 matches between 2008 and 2020"
   ]
  },
  {
   "cell_type": "code",
   "execution_count": 34,
   "metadata": {},
   "outputs": [
    {
     "data": {
      "text/plain": [
       "False    104\n",
       "True      91\n",
       "Name: winner, dtype: int64"
      ]
     },
     "execution_count": 34,
     "metadata": {},
     "output_type": "execute_result"
    }
   ],
   "source": [
    "(ipl_rcb[\"winner\"] == \"Royal Challengers Bangalore\").value_counts()"
   ]
  },
  {
   "cell_type": "markdown",
   "metadata": {},
   "source": [
    "This means that Bangalore have won 91 matches and have lost 104 matches overall </br>\n",
    "This also means that they have lost more matches than they have won"
   ]
  },
  {
   "cell_type": "code",
   "execution_count": 35,
   "metadata": {},
   "outputs": [
    {
     "data": {
      "text/plain": [
       "False    108\n",
       "True      87\n",
       "Name: toss_winner, dtype: int64"
      ]
     },
     "execution_count": 35,
     "metadata": {},
     "output_type": "execute_result"
    }
   ],
   "source": [
    "(ipl_rcb[\"toss_winner\"] == \"Royal Challengers Bangalore\").value_counts()"
   ]
  },
  {
   "cell_type": "markdown",
   "metadata": {},
   "source": [
    "This means that Bangalore have won the toss 87 times overall"
   ]
  },
  {
   "cell_type": "code",
   "execution_count": 36,
   "metadata": {},
   "outputs": [
    {
     "data": {
      "text/plain": [
       "43"
      ]
     },
     "execution_count": 36,
     "metadata": {},
     "output_type": "execute_result"
    }
   ],
   "source": [
    "win_rcb = ipl_rcb[\"winner\"] == \"Royal Challengers Bangalore\"\n",
    "toss_rcb  = ipl_rcb[\"toss_winner\"] == \"Royal Challengers Bangalore\"\n",
    "both_rcb = ipl_rcb[win_rcb & toss_rcb]\n",
    "len(both_rcb)"
   ]
  },
  {
   "cell_type": "markdown",
   "metadata": {},
   "source": [
    "This means that Bangalore have won the game 43 times after winning the toss as well"
   ]
  },
  {
   "cell_type": "code",
   "execution_count": 37,
   "metadata": {},
   "outputs": [
    {
     "data": {
      "text/plain": [
       "44"
      ]
     },
     "execution_count": 37,
     "metadata": {},
     "output_type": "execute_result"
    }
   ],
   "source": [
    "not_win_rcb = ipl_rcb[\"winner\"] != \"Royal Challengers Bangalore\"\n",
    "toss_rcb  = ipl_rcb[\"toss_winner\"] == \"Royal Challengers Bangalore\"\n",
    "len(ipl_rcb[not_win_rcb & toss_rcb])"
   ]
  },
  {
   "cell_type": "markdown",
   "metadata": {},
   "source": [
    "This means that Bangalore lost the match 44 times even after winning the toss <br>\n",
    "This is more than the number of times (43), they have won the game times after winning the toss"
   ]
  },
  {
   "cell_type": "code",
   "execution_count": 89,
   "metadata": {},
   "outputs": [
    {
     "data": {
      "text/plain": [
       "49.42528735632184"
      ]
     },
     "execution_count": 89,
     "metadata": {},
     "output_type": "execute_result"
    }
   ],
   "source": [
    "win_rate = len(both_rcb)/(len(both_rcb)+len(ipl_rcb[not_win_rcb & toss_rcb])) * 100\n",
    "win_rate"
   ]
  },
  {
   "cell_type": "markdown",
   "metadata": {},
   "source": [
    "#### 6. Kings XI Punjab"
   ]
  },
  {
   "cell_type": "code",
   "execution_count": 38,
   "metadata": {},
   "outputs": [],
   "source": [
    "#Selecting all the rows where either team1 is KXIP or team2 is KXIP\n",
    "team1_kxip = ipl[\"team1\"] == \"Kings XI Punjab\"\n",
    "team2_kxip = ipl[\"team2\"] == \"Kings XI Punjab\"\n",
    "ipl_kxip = ipl[team1_kxip | team2_kxip]"
   ]
  },
  {
   "cell_type": "code",
   "execution_count": 39,
   "metadata": {},
   "outputs": [
    {
     "data": {
      "text/plain": [
       "190"
      ]
     },
     "execution_count": 39,
     "metadata": {},
     "output_type": "execute_result"
    }
   ],
   "source": [
    "len(ipl_kxip)"
   ]
  },
  {
   "cell_type": "markdown",
   "metadata": {},
   "source": [
    "This means that Punjab have played a total number of 190 matches between 2008 and 2020"
   ]
  },
  {
   "cell_type": "code",
   "execution_count": 40,
   "metadata": {},
   "outputs": [
    {
     "data": {
      "text/plain": [
       "False    102\n",
       "True      88\n",
       "Name: winner, dtype: int64"
      ]
     },
     "execution_count": 40,
     "metadata": {},
     "output_type": "execute_result"
    }
   ],
   "source": [
    "(ipl_kxip[\"winner\"] == \"Kings XI Punjab\").value_counts()"
   ]
  },
  {
   "cell_type": "markdown",
   "metadata": {},
   "source": [
    "This means that Punjab have won 88 matches and have lost 102 matches overall </br>\n",
    "This also means that they have lost more matches than they have won"
   ]
  },
  {
   "cell_type": "code",
   "execution_count": 41,
   "metadata": {},
   "outputs": [
    {
     "data": {
      "text/plain": [
       "False    105\n",
       "True      85\n",
       "Name: toss_winner, dtype: int64"
      ]
     },
     "execution_count": 41,
     "metadata": {},
     "output_type": "execute_result"
    }
   ],
   "source": [
    "(ipl_kxip[\"toss_winner\"] == \"Kings XI Punjab\").value_counts()"
   ]
  },
  {
   "cell_type": "markdown",
   "metadata": {},
   "source": [
    "This means that Punjab have won the toss 85 times overall"
   ]
  },
  {
   "cell_type": "code",
   "execution_count": 42,
   "metadata": {},
   "outputs": [
    {
     "data": {
      "text/plain": [
       "36"
      ]
     },
     "execution_count": 42,
     "metadata": {},
     "output_type": "execute_result"
    }
   ],
   "source": [
    "win_kxip = ipl_kxip[\"winner\"] == \"Kings XI Punjab\"\n",
    "toss_kxip  = ipl_kxip[\"toss_winner\"] == \"Kings XI Punjab\"\n",
    "both_kxip = ipl_kxip[win_kxip & toss_kxip]\n",
    "len(both_kxip)"
   ]
  },
  {
   "cell_type": "markdown",
   "metadata": {},
   "source": [
    "This means that Punjab have won the game 36 times after winning the toss as well"
   ]
  },
  {
   "cell_type": "code",
   "execution_count": 43,
   "metadata": {},
   "outputs": [
    {
     "data": {
      "text/plain": [
       "49"
      ]
     },
     "execution_count": 43,
     "metadata": {},
     "output_type": "execute_result"
    }
   ],
   "source": [
    "not_win_kxip = ipl_kxip[\"winner\"] != \"Kings XI Punjab\"\n",
    "toss_kxip  = ipl_kxip[\"toss_winner\"] == \"Kings XI Punjab\"\n",
    "len(ipl_kxip[not_win_kxip & toss_kxip])"
   ]
  },
  {
   "cell_type": "markdown",
   "metadata": {},
   "source": [
    "This means that Punjab lost the match 49 times even after winning the toss </br>\n",
    "This is more than the number of times (36), they have won the game times after winning the toss"
   ]
  },
  {
   "cell_type": "code",
   "execution_count": 90,
   "metadata": {},
   "outputs": [
    {
     "data": {
      "text/plain": [
       "42.35294117647059"
      ]
     },
     "execution_count": 90,
     "metadata": {},
     "output_type": "execute_result"
    }
   ],
   "source": [
    "win_rate = len(both_kxip)/(len(both_kxip)+len(ipl_kxip[not_win_kxip & toss_kxip])) * 100\n",
    "win_rate"
   ]
  },
  {
   "cell_type": "markdown",
   "metadata": {},
   "source": [
    "#### 7. Delhi Daredevils and Delhi Capitals"
   ]
  },
  {
   "cell_type": "code",
   "execution_count": 44,
   "metadata": {},
   "outputs": [],
   "source": [
    "#Selecting all the rows where either team1 is DD or DC or team2 is DD or DC\n",
    "team1_dd = ipl[\"team1\"] == \"Delhi Daredevils\"\n",
    "team2_dd = ipl[\"team2\"] == \"Delhi Daredevils\"\n",
    "team1_dc = ipl[\"team1\"] == \"Delhi Capitals\"\n",
    "team2_dc = ipl[\"team2\"] == \"Delhi Capitals\"\n",
    "ipl_del = ipl[team1_dd | team2_dd | team1_dc | team2_dc]"
   ]
  },
  {
   "cell_type": "code",
   "execution_count": 45,
   "metadata": {},
   "outputs": [
    {
     "data": {
      "text/plain": [
       "194"
      ]
     },
     "execution_count": 45,
     "metadata": {},
     "output_type": "execute_result"
    }
   ],
   "source": [
    "len(ipl_del)"
   ]
  },
  {
   "cell_type": "markdown",
   "metadata": {},
   "source": [
    "This means that both the Delhi teams have played a combined total number of 194 matches between 2008 and 2020"
   ]
  },
  {
   "cell_type": "code",
   "execution_count": 46,
   "metadata": {},
   "outputs": [
    {
     "data": {
      "text/plain": [
       "False    108\n",
       "True      86\n",
       "Name: winner, dtype: int64"
      ]
     },
     "execution_count": 46,
     "metadata": {},
     "output_type": "execute_result"
    }
   ],
   "source": [
    "ipl_del[\"winner\"].isin([\"Delhi Daredevils\", \"Delhi Capitals\"]).value_counts()"
   ]
  },
  {
   "cell_type": "markdown",
   "metadata": {},
   "source": [
    "This means that Delhi teams have won a combined 86 matches and have lost 108 matches overall </br>\n",
    "This also means that they have lost more matches than they have won"
   ]
  },
  {
   "cell_type": "code",
   "execution_count": 47,
   "metadata": {},
   "outputs": [
    {
     "data": {
      "text/plain": [
       "True     100\n",
       "False     94\n",
       "Name: toss_winner, dtype: int64"
      ]
     },
     "execution_count": 47,
     "metadata": {},
     "output_type": "execute_result"
    }
   ],
   "source": [
    "ipl_del[\"toss_winner\"].isin([\"Delhi Daredevils\", \"Delhi Capitals\"]).value_counts()"
   ]
  },
  {
   "cell_type": "markdown",
   "metadata": {},
   "source": [
    "This means that Delhi have won the toss 100 times overall </br>\n",
    "This is also means that they have the toss more number of times than they have won matches (86)"
   ]
  },
  {
   "cell_type": "code",
   "execution_count": 48,
   "metadata": {},
   "outputs": [
    {
     "data": {
      "text/plain": [
       "45"
      ]
     },
     "execution_count": 48,
     "metadata": {},
     "output_type": "execute_result"
    }
   ],
   "source": [
    "win_del = ipl_del[\"winner\"].isin([\"Delhi Daredevils\", \"Delhi Capitals\"])\n",
    "toss_del  = ipl_del[\"toss_winner\"].isin([\"Delhi Daredevils\", \"Delhi Capitals\"])\n",
    "both_del = ipl_del[win_del & toss_del]\n",
    "len(both_del)"
   ]
  },
  {
   "cell_type": "markdown",
   "metadata": {},
   "source": [
    "This means that Delhi (both combined) have won the game 45 times after winning the toss as well"
   ]
  },
  {
   "cell_type": "code",
   "execution_count": 49,
   "metadata": {},
   "outputs": [
    {
     "data": {
      "text/plain": [
       "55"
      ]
     },
     "execution_count": 49,
     "metadata": {},
     "output_type": "execute_result"
    }
   ],
   "source": [
    "not_win_del = ~win_del\n",
    "toss_del  = ipl_del[\"toss_winner\"].isin([\"Delhi Daredevils\", \"Delhi Capitals\"])\n",
    "len(ipl_del[not_win_del & toss_del])"
   ]
  },
  {
   "cell_type": "markdown",
   "metadata": {},
   "source": [
    "This means that Delhi (both combined) lost the match 55 times even after winning the toss </br>\n",
    "This is more than the number of times (45), they have won the game times after winning the toss"
   ]
  },
  {
   "cell_type": "code",
   "execution_count": 91,
   "metadata": {},
   "outputs": [
    {
     "data": {
      "text/plain": [
       "45.0"
      ]
     },
     "execution_count": 91,
     "metadata": {},
     "output_type": "execute_result"
    }
   ],
   "source": [
    "win_rate = len(both_del)/(len(both_del)+len(ipl_del[not_win_del & toss_del])) * 100\n",
    "win_rate"
   ]
  },
  {
   "cell_type": "markdown",
   "metadata": {},
   "source": [
    "#### 8. Sunrisers Hyderabad and Deccan Chargers"
   ]
  },
  {
   "cell_type": "code",
   "execution_count": 50,
   "metadata": {},
   "outputs": [],
   "source": [
    "#Selecting all the rows where either team1 is SRH or DCH or team2 is SRH or DCH\n",
    "team1_srh = ipl[\"team1\"] == \"Sunrisers Hyderabad\"\n",
    "team2_srh = ipl[\"team2\"] == \"Sunrisers Hyderabad\"\n",
    "team1_dch = ipl[\"team1\"] == \"Deccan Chargers\"\n",
    "team2_dch = ipl[\"team2\"] == \"Deccan Chargers\"\n",
    "ipl_hyd = ipl[team1_srh | team2_srh | team1_dch | team2_dch]"
   ]
  },
  {
   "cell_type": "code",
   "execution_count": 51,
   "metadata": {},
   "outputs": [
    {
     "data": {
      "text/plain": [
       "199"
      ]
     },
     "execution_count": 51,
     "metadata": {},
     "output_type": "execute_result"
    }
   ],
   "source": [
    "len(ipl_hyd)"
   ]
  },
  {
   "cell_type": "markdown",
   "metadata": {},
   "source": [
    "This means that both the Hyderabad teams have played a combined total number of 199 matches between 2008 and 2020"
   ]
  },
  {
   "cell_type": "code",
   "execution_count": 52,
   "metadata": {},
   "outputs": [
    {
     "data": {
      "text/plain": [
       "False    104\n",
       "True      95\n",
       "Name: winner, dtype: int64"
      ]
     },
     "execution_count": 52,
     "metadata": {},
     "output_type": "execute_result"
    }
   ],
   "source": [
    "ipl_hyd[\"winner\"].isin([\"Sunrisers Hyderabad\", \"Deccan Chargers\"]).value_counts()"
   ]
  },
  {
   "cell_type": "markdown",
   "metadata": {},
   "source": [
    "This means that Hyderabad teams have won a combined 95 matches and have lost 104 matches overall </br>\n",
    "This also means that they have lost more matches than they have won"
   ]
  },
  {
   "cell_type": "code",
   "execution_count": 53,
   "metadata": {},
   "outputs": [
    {
     "data": {
      "text/plain": [
       "True     100\n",
       "False     99\n",
       "Name: toss_winner, dtype: int64"
      ]
     },
     "execution_count": 53,
     "metadata": {},
     "output_type": "execute_result"
    }
   ],
   "source": [
    "ipl_hyd[\"toss_winner\"].isin([\"Sunrisers Hyderabad\", \"Deccan Chargers\"]).value_counts()"
   ]
  },
  {
   "cell_type": "markdown",
   "metadata": {},
   "source": [
    "This means that Hyderabad have won the toss 100 times overall </br>\n",
    "This is also means that they have the toss more number of times than they have won matches (95)"
   ]
  },
  {
   "cell_type": "code",
   "execution_count": 54,
   "metadata": {},
   "outputs": [
    {
     "data": {
      "text/plain": [
       "48"
      ]
     },
     "execution_count": 54,
     "metadata": {},
     "output_type": "execute_result"
    }
   ],
   "source": [
    "win_hyd = ipl_hyd[\"winner\"].isin([\"Sunrisers Hyderabad\", \"Deccan Chargers\"])\n",
    "toss_hyd  = ipl_hyd[\"toss_winner\"].isin([\"Sunrisers Hyderabad\", \"Deccan Chargers\"])\n",
    "both_hyd = ipl_hyd[win_hyd & toss_hyd]\n",
    "len(both_hyd)"
   ]
  },
  {
   "cell_type": "markdown",
   "metadata": {},
   "source": [
    "This means that Hyderabad (both combined) have won the game 48 times after winning the toss as well"
   ]
  },
  {
   "cell_type": "code",
   "execution_count": 55,
   "metadata": {},
   "outputs": [
    {
     "data": {
      "text/plain": [
       "52"
      ]
     },
     "execution_count": 55,
     "metadata": {},
     "output_type": "execute_result"
    }
   ],
   "source": [
    "not_win_hyd = ~win_hyd\n",
    "toss_hyd = ipl_hyd[\"toss_winner\"].isin([\"Sunrisers Hyderabad\", \"Deccan Chargers\"])\n",
    "len(ipl_hyd[not_win_hyd & toss_hyd])"
   ]
  },
  {
   "cell_type": "markdown",
   "metadata": {},
   "source": [
    "This means that Hyderabad (both combined) lost the match 52 times even after winning the toss </br>\n",
    "This is more than the number of times (48), they have won the game times after winning the toss"
   ]
  },
  {
   "cell_type": "code",
   "execution_count": 92,
   "metadata": {},
   "outputs": [
    {
     "data": {
      "text/plain": [
       "48.0"
      ]
     },
     "execution_count": 92,
     "metadata": {},
     "output_type": "execute_result"
    }
   ],
   "source": [
    "win_rate = len(both_hyd)/(len(both_hyd)+len(ipl_hyd[not_win_hyd & toss_hyd])) * 100\n",
    "win_rate"
   ]
  },
  {
   "cell_type": "markdown",
   "metadata": {},
   "source": [
    "#### 9. Gujarat Lions"
   ]
  },
  {
   "cell_type": "code",
   "execution_count": 56,
   "metadata": {},
   "outputs": [],
   "source": [
    "#Selecting all the rows where either team1 is GL or team2 is GL\n",
    "team1_gl = ipl[\"team1\"] == \"Gujarat Lions\"\n",
    "team2_gl = ipl[\"team2\"] == \"Gujarat Lions\"\n",
    "ipl_gl = ipl[team1_gl | team2_gl]"
   ]
  },
  {
   "cell_type": "code",
   "execution_count": 57,
   "metadata": {},
   "outputs": [
    {
     "data": {
      "text/plain": [
       "30"
      ]
     },
     "execution_count": 57,
     "metadata": {},
     "output_type": "execute_result"
    }
   ],
   "source": [
    "len(ipl_gl)"
   ]
  },
  {
   "cell_type": "markdown",
   "metadata": {},
   "source": [
    "This means that both the Gujarat played a total number of 30 matches between 2008 and 2020"
   ]
  },
  {
   "cell_type": "code",
   "execution_count": 58,
   "metadata": {},
   "outputs": [
    {
     "data": {
      "text/plain": [
       "False    17\n",
       "True     13\n",
       "Name: winner, dtype: int64"
      ]
     },
     "execution_count": 58,
     "metadata": {},
     "output_type": "execute_result"
    }
   ],
   "source": [
    "(ipl_gl[\"winner\"] == \"Gujarat Lions\").value_counts()"
   ]
  },
  {
   "cell_type": "markdown",
   "metadata": {},
   "source": [
    "This means that Gujarat teams have won 13 matches and have lost 17 matches overall </br>\n",
    "This also means that they have lost more matches than they have won"
   ]
  },
  {
   "cell_type": "code",
   "execution_count": 59,
   "metadata": {},
   "outputs": [
    {
     "data": {
      "text/plain": [
       "True     15\n",
       "False    15\n",
       "Name: toss_winner, dtype: int64"
      ]
     },
     "execution_count": 59,
     "metadata": {},
     "output_type": "execute_result"
    }
   ],
   "source": [
    "(ipl_gl[\"toss_winner\"] == \"Gujarat Lions\").value_counts()"
   ]
  },
  {
   "cell_type": "markdown",
   "metadata": {},
   "source": [
    "This means that Gujarat have won the toss 15 times overall </br>\n",
    "This is also means that they have the toss more number of times than they have won matches (13)"
   ]
  },
  {
   "cell_type": "code",
   "execution_count": 60,
   "metadata": {},
   "outputs": [
    {
     "data": {
      "text/plain": [
       "10"
      ]
     },
     "execution_count": 60,
     "metadata": {},
     "output_type": "execute_result"
    }
   ],
   "source": [
    "win_gl = ipl_gl[\"winner\"] == \"Gujarat Lions\"\n",
    "toss_gl  = ipl_gl[\"toss_winner\"] == \"Gujarat Lions\"\n",
    "both_gl = ipl_gl[win_gl & toss_gl]\n",
    "len(both_gl)"
   ]
  },
  {
   "cell_type": "markdown",
   "metadata": {},
   "source": [
    "This means that Gujarat have won the game 10 times after winning the toss as well"
   ]
  },
  {
   "cell_type": "code",
   "execution_count": 61,
   "metadata": {},
   "outputs": [
    {
     "data": {
      "text/plain": [
       "5"
      ]
     },
     "execution_count": 61,
     "metadata": {},
     "output_type": "execute_result"
    }
   ],
   "source": [
    "not_win_gl = ipl_gl[\"winner\"] != \"Gujarat Lions\"\n",
    "toss_gl  = ipl_gl[\"toss_winner\"] == \"Gujarat Lions\"\n",
    "len(ipl_gl[not_win_gl & toss_gl])"
   ]
  },
  {
   "cell_type": "markdown",
   "metadata": {},
   "source": [
    "This means that Gujarat lost the match 5 times even after winning the toss"
   ]
  },
  {
   "cell_type": "code",
   "execution_count": 93,
   "metadata": {},
   "outputs": [
    {
     "data": {
      "text/plain": [
       "66.66666666666666"
      ]
     },
     "execution_count": 93,
     "metadata": {},
     "output_type": "execute_result"
    }
   ],
   "source": [
    "win_rate = len(both_gl)/(len(both_gl)+len(ipl_gl[not_win_gl & toss_gl])) * 100\n",
    "win_rate"
   ]
  },
  {
   "cell_type": "markdown",
   "metadata": {},
   "source": [
    "#### 10. Rising Pune Supergiant and Pune Warriors      "
   ]
  },
  {
   "cell_type": "code",
   "execution_count": 62,
   "metadata": {},
   "outputs": [],
   "source": [
    "#Selecting all the rows where either team1 is RPS or PW or team2 is RPS or PW\n",
    "team1_rps = ipl[\"team1\"] == \"Rising Pune Supergiant\"\n",
    "team2_rps = ipl[\"team2\"] == \"Rising Pune Supergiant\"\n",
    "team1_pw = ipl[\"team1\"] == \"Pune Warriors\"\n",
    "team2_pw = ipl[\"team2\"] == \"Pune Warriors\"\n",
    "ipl_pun = ipl[team1_rps | team2_rps | team1_pw | team2_pw]"
   ]
  },
  {
   "cell_type": "code",
   "execution_count": 63,
   "metadata": {},
   "outputs": [
    {
     "data": {
      "text/plain": [
       "76"
      ]
     },
     "execution_count": 63,
     "metadata": {},
     "output_type": "execute_result"
    }
   ],
   "source": [
    "len(ipl_pun)"
   ]
  },
  {
   "cell_type": "markdown",
   "metadata": {},
   "source": [
    "This means that both the Pune teams have played a combined total number of 76 matches between 2008 and 2020"
   ]
  },
  {
   "cell_type": "code",
   "execution_count": 64,
   "metadata": {},
   "outputs": [
    {
     "data": {
      "text/plain": [
       "False    49\n",
       "True     27\n",
       "Name: winner, dtype: int64"
      ]
     },
     "execution_count": 64,
     "metadata": {},
     "output_type": "execute_result"
    }
   ],
   "source": [
    "ipl_pun[\"winner\"].isin([\"Rising Pune Supergiant\", \"Pune Warriors\"]).value_counts()"
   ]
  },
  {
   "cell_type": "markdown",
   "metadata": {},
   "source": [
    "This means that Pune teams have won a combined 27 matches and have lost 49 matches overall </br>\n",
    "This also means that they have lost more matches than they have won"
   ]
  },
  {
   "cell_type": "code",
   "execution_count": 65,
   "metadata": {},
   "outputs": [
    {
     "data": {
      "text/plain": [
       "False    43\n",
       "True     33\n",
       "Name: toss_winner, dtype: int64"
      ]
     },
     "execution_count": 65,
     "metadata": {},
     "output_type": "execute_result"
    }
   ],
   "source": [
    "ipl_pun[\"toss_winner\"].isin([\"Rising Pune Supergiant\", \"Pune Warriors\"]).value_counts()"
   ]
  },
  {
   "cell_type": "markdown",
   "metadata": {},
   "source": [
    "This means that Pune have won the toss 33 times overall </br>\n",
    "This is also means that they have the toss more number of times than they have won matches (27)"
   ]
  },
  {
   "cell_type": "code",
   "execution_count": 66,
   "metadata": {},
   "outputs": [
    {
     "data": {
      "text/plain": [
       "11"
      ]
     },
     "execution_count": 66,
     "metadata": {},
     "output_type": "execute_result"
    }
   ],
   "source": [
    "win_pun = ipl_pun[\"winner\"].isin([\"Rising Pune Supergiant\", \"Pune Warriors\"])\n",
    "toss_pun  = ipl_pun[\"toss_winner\"].isin([\"Rising Pune Supergiant\", \"Pune Warriors\"])\n",
    "both_pun = ipl_pun[win_pun & toss_pun]\n",
    "len(both_pun)"
   ]
  },
  {
   "cell_type": "markdown",
   "metadata": {},
   "source": [
    "This means that Pune (both combined) have won the game 11 times after winning the toss as well"
   ]
  },
  {
   "cell_type": "code",
   "execution_count": 67,
   "metadata": {},
   "outputs": [
    {
     "data": {
      "text/plain": [
       "22"
      ]
     },
     "execution_count": 67,
     "metadata": {},
     "output_type": "execute_result"
    }
   ],
   "source": [
    "not_win_pun = ~win_pun\n",
    "toss_pun  = ipl_pun[\"toss_winner\"].isin([\"Rising Pune Supergiant\", \"Pune Warriors\"])\n",
    "len(ipl_pun[not_win_pun & toss_pun])"
   ]
  },
  {
   "cell_type": "markdown",
   "metadata": {},
   "source": [
    "This means that Pune (both combined) lost the match 22 times even after winning the toss </br>\n",
    "This is more than the number of times (11), they have won the game times after winning the toss"
   ]
  },
  {
   "cell_type": "code",
   "execution_count": 94,
   "metadata": {},
   "outputs": [
    {
     "data": {
      "text/plain": [
       "33.33333333333333"
      ]
     },
     "execution_count": 94,
     "metadata": {},
     "output_type": "execute_result"
    }
   ],
   "source": [
    "win_rate = len(both_pun)/(len(both_pun)+len(ipl_pun[not_win_pun & toss_pun])) * 100\n",
    "win_rate"
   ]
  },
  {
   "cell_type": "markdown",
   "metadata": {},
   "source": [
    "#### 11. Kochi Tuskers Kerala"
   ]
  },
  {
   "cell_type": "code",
   "execution_count": 68,
   "metadata": {},
   "outputs": [],
   "source": [
    "#Selecting all the rows where either team1 is KTK or team2 is KTK\n",
    "team1_ktk = ipl[\"team1\"] == \"Kochi Tuskers Kerala\"\n",
    "team2_ktk = ipl[\"team2\"] == \"Kochi Tuskers Kerala\"\n",
    "ipl_ktk = ipl[team1_ktk | team2_ktk]"
   ]
  },
  {
   "cell_type": "code",
   "execution_count": 69,
   "metadata": {},
   "outputs": [
    {
     "data": {
      "text/plain": [
       "14"
      ]
     },
     "execution_count": 69,
     "metadata": {},
     "output_type": "execute_result"
    }
   ],
   "source": [
    "len(ipl_ktk)"
   ]
  },
  {
   "cell_type": "markdown",
   "metadata": {},
   "source": [
    "This means that both the Kochi played a total number of 14 matches between 2008 and 2020"
   ]
  },
  {
   "cell_type": "code",
   "execution_count": 70,
   "metadata": {},
   "outputs": [
    {
     "data": {
      "text/plain": [
       "False    8\n",
       "True     6\n",
       "Name: winner, dtype: int64"
      ]
     },
     "execution_count": 70,
     "metadata": {},
     "output_type": "execute_result"
    }
   ],
   "source": [
    "(ipl_ktk[\"winner\"] == \"Kochi Tuskers Kerala\").value_counts()"
   ]
  },
  {
   "cell_type": "markdown",
   "metadata": {},
   "source": [
    "This means that Kochi teams have won 6 matches and have lost 8 matches overall </br>\n",
    "This also means that they have lost more matches than they have won"
   ]
  },
  {
   "cell_type": "code",
   "execution_count": 71,
   "metadata": {},
   "outputs": [
    {
     "data": {
      "text/plain": [
       "True     8\n",
       "False    6\n",
       "Name: toss_winner, dtype: int64"
      ]
     },
     "execution_count": 71,
     "metadata": {},
     "output_type": "execute_result"
    }
   ],
   "source": [
    "(ipl_ktk[\"toss_winner\"] == \"Kochi Tuskers Kerala\").value_counts()"
   ]
  },
  {
   "cell_type": "markdown",
   "metadata": {},
   "source": [
    "This means that Gujarat have won the toss 8 times overall </br>\n",
    "This is also means that they have the toss more number of times than they have won matches (6)"
   ]
  },
  {
   "cell_type": "code",
   "execution_count": 72,
   "metadata": {},
   "outputs": [
    {
     "data": {
      "text/plain": [
       "4"
      ]
     },
     "execution_count": 72,
     "metadata": {},
     "output_type": "execute_result"
    }
   ],
   "source": [
    "win_ktk = ipl_ktk[\"winner\"] == \"Kochi Tuskers Kerala\"\n",
    "toss_ktk  = ipl_ktk[\"toss_winner\"] == \"Kochi Tuskers Kerala\"\n",
    "both_ktk = ipl_ktk[win_ktk & toss_ktk]\n",
    "len(both_ktk)"
   ]
  },
  {
   "cell_type": "markdown",
   "metadata": {},
   "source": [
    "This means that Kochi have won the game 4 times after winning the toss as well"
   ]
  },
  {
   "cell_type": "code",
   "execution_count": 73,
   "metadata": {},
   "outputs": [
    {
     "data": {
      "text/plain": [
       "4"
      ]
     },
     "execution_count": 73,
     "metadata": {},
     "output_type": "execute_result"
    }
   ],
   "source": [
    "not_win_ktk = ipl_ktk[\"winner\"] != \"Kochi Tuskers Kerala\"\n",
    "toss_ktk  = ipl_ktk[\"toss_winner\"] == \"Kochi Tuskers Kerala\"\n",
    "len(ipl_ktk[not_win_ktk & toss_ktk])"
   ]
  },
  {
   "cell_type": "markdown",
   "metadata": {},
   "source": [
    "This means that Kochi lost the match 4 times even after winning the toss"
   ]
  }
 ],
 "metadata": {
  "kernelspec": {
   "display_name": "Python 3",
   "language": "python",
   "name": "python3"
  },
  "language_info": {
   "codemirror_mode": {
    "name": "ipython",
    "version": 3
   },
   "file_extension": ".py",
   "mimetype": "text/x-python",
   "name": "python",
   "nbconvert_exporter": "python",
   "pygments_lexer": "ipython3",
   "version": "3.8.3"
  }
 },
 "nbformat": 4,
 "nbformat_minor": 5
}
